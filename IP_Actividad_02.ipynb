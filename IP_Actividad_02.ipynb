{
 "cells": [
  {
   "cell_type": "markdown",
   "id": "medical-greenhouse",
   "metadata": {},
   "source": [
    "<img src=\"img/viu_logo.png\" width=\"200\"><img src=\"img/python_logo.png\" width=\"250\"> *Mario Cervera*"
   ]
  },
  {
   "cell_type": "markdown",
   "id": "unauthorized-brief",
   "metadata": {},
   "source": [
    "# Introducción a la Programación - Actividad Evaluable 2"
   ]
  },
  {
   "cell_type": "markdown",
   "id": "cordless-toner",
   "metadata": {},
   "source": [
    "### 1. Estructuras de datos y Programación Orientada a Objetos - 100%"
   ]
  },
  {
   "cell_type": "markdown",
   "id": "mounted-holocaust",
   "metadata": {
    "tags": []
   },
   "source": [
    "El fichero *grafo.txt* define un grafo dirigido ponderado. Cada fila del fichero contiene tres items separados entre sí por un espacio. Estos tres items definen una arista y su peso. Por ejemplo, la fila \"a b 2\" define una arista *(a, b)*, cuyo peso es 2, y donde *a* y *b* son nodos del grafo. La arista tiene *a* como origen y *b* como destino."
   ]
  },
  {
   "cell_type": "markdown",
   "id": "simple-transcription",
   "metadata": {},
   "source": [
    "1.1. Crea una clase *Arista* que represente una arista del grafo, con su nodo origen, su nodo destino y su peso. La clase debe sobreescribir el operador que permite que las instancias de la clase puedan representarse apropiadamente en formato *string*. Añade documentación a la clase."
   ]
  },
  {
   "cell_type": "code",
   "execution_count": 3,
   "metadata": {},
   "outputs": [
    {
     "output_type": "error",
     "ename": "IndentationError",
     "evalue": "unindent does not match any outer indentation level (<tokenize>, line 11)",
     "traceback": [
      "\u001b[1;36m  File \u001b[1;32m\"<tokenize>\"\u001b[1;36m, line \u001b[1;32m11\u001b[0m\n\u001b[1;33m    \"Métodos\"\u001b[0m\n\u001b[1;37m    ^\u001b[0m\n\u001b[1;31mIndentationError\u001b[0m\u001b[1;31m:\u001b[0m unindent does not match any outer indentation level\n"
     ]
    }
   ],
   "source": [
    " class Arista:\n",
    "     \"Clase Arista:\"\n",
    "     \n",
    "     \"Parámetros\"\n",
    "\n",
    "     \n",
    "            @origen: Nodo origen\n",
    "            @destino: Nodo destino\n",
    "            @peso: peso del nodo origen al nodo destino\n",
    "\n",
    "    \"Métodos\"\n",
    "            @__init__(origen,destino, peso):\n",
    "    \"            Se ejecuta al iniciar la clase\n",
    "    \"            reescribir origen, destino y peso\"\n",
    "    \"            Inicializa los parametros origen, destino y peso\"\n",
    "            @__str__():\n",
    "    \"            Metodo que sobreescribe el operador string para las instancias de la clase.\\n\",\n",
    "        def __init__(self,origen,destino, peso):\n",
    "            self.origen = origen\n",
    "            self.destino = destino\n",
    "            self.peso = peso\n",
    "        def __str__(self):\n",
    "            output = self.origen+\\\"-->\\\" + self.destino + \\\"(\\\" + self.peso +\\\"),\n",
    "    \"        return output\\n\",\n"
   ]
  },
  {
   "cell_type": "markdown",
   "id": "perceived-bracelet",
   "metadata": {},
   "source": [
    "1.2. Crea una clase abstracta *Grafo* que represente un grafo, pero sin proporcionar detalles sobre su representación en memoria. Esta clase abstracta contendrá un constructor que recibirá un parámetro: la ruta a un fichero de texto, de donde la clase *Grafo* podrá extraer la definición del grafo. La clase, al ser abstracta, no puede crear el grafo, pero sí puede procesar el fichero y usar un método abstracto *anyadir_arista*. Añadir también a la clase *Grafo* otro método abstracto *contiene_arista* que permita comprobar la presencia de una arista en el grafo. Ambos métodos recibirán una *Arista* como parámetro. Añade documentación a la clase."
   ]
  },
  {
   "source": [
    "class Grafo:\n",
    "    '''En esta clase se representará un grafo a través de los datos de un fichero y se crearán los diferentes métodos para trabajar con ella'''\n",
    " def __init__(self):\n",
    "        self.listaVertices = {}\n",
    "        self.numVertices = 0\n",
    "\n",
    "    def agregarVertice(self,clave):\n",
    "        self.numVertices = self.numVertices + 1\n",
    "        nuevoVertice = Vertice(clave)\n",
    "        self.listaVertices[clave] = nuevoVertice\n",
    "        return nuevoVertice\n",
    "\n",
    "    def obtenerVertice(self,n):\n",
    "        if n in self.listaVertices:\n",
    "            return self.listaVertices[n]\n",
    "        else:\n",
    "            return None\n",
    "\n",
    "    def __contains__(self,n):\n",
    "        return n in self.listaVertices\n",
    "\n",
    "    def agregarArista(self,de,a,costo=0):\n",
    "        if de not in self.listaVertices:\n",
    "            nv = self.agregarVertice(de)\n",
    "        if a not in self.listaVertices:\n",
    "            nv = self.agregarVertice(a)\n",
    "        self.listaVertices[de].agregarVecino(self.listaVertices[a], costo)\n",
    "\n",
    "    def obtenerVertices(self):\n",
    "        return self.listaVertices.keys()\n",
    "\n",
    "    def __iter__(self):\n",
    "        return iter(self.listaVertices.values())\n",
    "\n",
    "    with open('res/grafo.txt', 'r') as f:\n",
    "    lines = f.readlines()\n",
    "    \"# Quitar espacios\\n\",\n",
    "    grafo = [line.replace(' ', '') for line in lines]\n",
    "    arista = Arista(grafo[0][0],grafo[0][1],grafo[0][2])\n",
    "    print(arista)\n",
    "\n",
    "\n"
   ],
   "cell_type": "code",
   "metadata": {},
   "execution_count": 11,
   "outputs": [
    {
     "output_type": "error",
     "ename": "IndentationError",
     "evalue": "unindent does not match any outer indentation level (<tokenize>, line 3)",
     "traceback": [
      "\u001b[1;36m  File \u001b[1;32m\"<tokenize>\"\u001b[1;36m, line \u001b[1;32m3\u001b[0m\n\u001b[1;33m    def __init__(self):\u001b[0m\n\u001b[1;37m    ^\u001b[0m\n\u001b[1;31mIndentationError\u001b[0m\u001b[1;31m:\u001b[0m unindent does not match any outer indentation level\n"
     ]
    }
   ]
  },
  {
   "source": [
    "1.3. Crea una subclase *GrafoListasAdyacencia*. Esta clase implementará el método *anyadir_arista* de manera que se creen las listas de adyacencia de manera apropiada. La clase deberá también implementar el método *contiene_arista*. Añade documentación a la clase.\n",
    "\n",
    "Nota: observad que en las listas de adyacencia no debéis almacenar objetos de tipo *Arista*, ya que esto crearía duplicación innecesaria de información en memoria."
   ],
   "cell_type": "code",
   "metadata": {
    "tags": []
   },
   "execution_count": null,
   "outputs": []
  },
  {
   "cell_type": "markdown",
   "id": "sapphire-statistics",
   "metadata": {},
   "source": [
    "1.4. Crea una subclase *GrafoMatrizAdyacencia*. Esta clase implementará el método *anyadir_arista* de manera que se cree la matriz de adyacencia de manera apropiada. Una matriz de adyacencia es una matriz cuadrada que indica, para cada par de nodos, si son adyacentes o no. Más formalmente, dado un grafo con nodos *U = { u<sub>1</sub>, u<sub>2</sub>, ..., u<sub>n</sub> }*, la matriz de adyacencia es una matriz *n x n* donde un elemento *A<sub>ij</sub>* de la matriz es *X* cuando el grafo posee una arista del nodo *u<sub>i</sub>* al nodo *u<sub>j</sub>* con peso *X*, y 0 cuando no existe tal arista o tiene peso 0.\n",
    "\n",
    "Nota: para este ejercicio, podéis asumir que se sabe de antemano (es decir, antes de procesar el fichero) que el grafo tiene 7 nodos: 'a', 'b', 'c', 'd', 'e', 'f' y 'g'."
   ]
  },
  {
   "cell_type": "markdown",
   "id": "mediterranean-arizona",
   "metadata": {},
   "source": [
    "1.5. Crea una función que, dado un grafo y una arista, compruebe si la arista existe en el grafo y muestre un mensaje apropiado por pantalla en cualquier caso. Utiliza esta función para comprobar la existencia/ausencia de varias aristas en una instancia de un grafo basado en listas de adyacencia y también en un grafo basado en matriz de adyacencia. El resultado debería ser el mismo en ambos casos, ya que la existencia o ausencia de una arista en un grafo no depende de cómo el grafo está representado internamente."
   ]
  },
  {
   "cell_type": "code",
   "execution_count": 5,
   "metadata": {},
   "outputs": [
    {
     "output_type": "error",
     "ename": "IndentationError",
     "evalue": "unindent does not match any outer indentation level (<tokenize>, line 36)",
     "traceback": [
      "\u001b[1;36m  File \u001b[1;32m\"<tokenize>\"\u001b[1;36m, line \u001b[1;32m36\u001b[0m\n\u001b[1;33m    @abstractmethod\u001b[0m\n\u001b[1;37m    ^\u001b[0m\n\u001b[1;31mIndentationError\u001b[0m\u001b[1;31m:\u001b[0m unindent does not match any outer indentation level\n"
     ]
    }
   ],
   "source": [
    " from abc import ABC\n",
    "    from abc import abstractmethod\n",
    "    class Grafo(ABC):\n",
    "    \"    Clase Grafo:\"\n",
    "    \n",
    "    \"    Parámetros\\n\",\n",
    "      @ruta: path a fichero con grafo\"\n",
    "      @grafo: contiene aristas de grafo\",\n",
    "    \"    Métodos\",\n",
    "        get_grafo_from_text():\n",
    "    \"        rescata los datos del fichero txt que se encuentra en la ruta\\n\"\n",
    "\n",
    "       crea_arista(str_arista):\n",
    "            @metodo abstracto\n",
    "    \"        Recibe una arista en formato string y la convierte a lista\"\n",
    "\n",
    "    def anyadir_arista(Arista):\n",
    "    \"        @metodo abstracto\\n\",\n",
    "    \"        Recibe una arista y la añade a grafo\"\n",
    "    \n",
    "    def contiene_arista(Arista):\n",
    "    \"        @metodo abstracto\\\",\n",
    "    \"        Recibe una arista y comprueba su existencia en el grafo.\",\n",
    "    \"        Devuelve TRUE si la arista ya existe en grafo, si no FALSE\",\n",
    "    def __init__(self,path):\n",
    "        self.ruta = path\n",
    "        self.grafo = {}\n",
    "    \n",
    "    def get_grafo_from_text(self):\n",
    "    \n",
    "    with open(self.ruta, 'r') as fich:,\n",
    "        lines = fich.readlines()\n",
    "        lines = [line.replace(' ', '') for line in lines] # Quitar espacios\",\n",
    "        grafo_text = [line.replace('\\\\n', '') for line in lines] # Quitar final de linea\",\n",
    "        return grafo_text\n",
    "     @abstractmethod\n",
    "        def create_arista(self, str_arista):\n",
    "            pass\n",
    "    \n",
    "        @abstractmethod\n",
    "        def Add_arista(self, Arista):\n",
    "            pass\n",
    "        @abstractmethod\\\n",
    "        def contiene_arista(self, Arista)\n",
    "            pass\n",
    "    "
   ]
  },
  {
   "cell_type": "code",
   "execution_count": null,
   "metadata": {},
   "outputs": [],
   "source": []
  }
 ],
 "metadata": {
  "kernelspec": {
   "name": "python394jvsc74a57bd02e3c1e8da6e821b0193601da5a0e541c0efda9704da45b6b820f5f4c317f2def",
   "display_name": "Python 3.9.4 64-bit"
  },
  "language_info": {
   "codemirror_mode": {
    "name": "ipython",
    "version": 3
   },
   "file_extension": ".py",
   "mimetype": "text/x-python",
   "name": "python",
   "nbconvert_exporter": "python",
   "pygments_lexer": "ipython3",
   "version": "3.9.4"
  },
  "metadata": {
   "interpreter": {
    "hash": "2e3c1e8da6e821b0193601da5a0e541c0efda9704da45b6b820f5f4c317f2def"
   }
  }
 },
 "nbformat": 4,
 "nbformat_minor": 5
}