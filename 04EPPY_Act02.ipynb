{
 "cells": [
  {
   "cell_type": "markdown",
   "id": "9fdae373-c03d-4bff-a368-07a3fc234878",
   "metadata": {},
   "source": [
    "<img src=\"../img/viu_logo.png\" width=\"200\">\n",
    "\n",
    "## 04EPPY - Actividad 2\n",
    "\n",
    "25% de la Nota Final\n",
    "\n",
    "### Fecha Entrega\n",
    "- Convocatoria 1 - 10/09/2021\n",
    "- Convocatoria 2 - 06/10/2021\n",
    "\n",
    "### Instrucciones:\n",
    "- Crear un notebook de Python3 que servirá como entrega de la actividad.\n",
    "- Separar bien los apartados propuestos con celdas Markdown.\n",
    "- Mantener una estructura limpia, comentando código y secuenciando los apartados con el código correspondiente que resuelva la actividad.\n",
    "- Como criterio de evaluación se tendrá en cuenta el resultado, la consecución del mismo, estilo, comentarios y adecuación.\n",
    "- No está permitido compartir los resultados ni el código en ninguno de los foros. \n",
    "\n",
    "### Entrega:\n",
    "- Un solo documento en formato notebook: .ipynb\n",
    "- Para hacer la entrega hay que hacer un tag al repositorio en una fecha anterior a la fecha de entrega de la actividad, y pegar el enlace al tag del repositorio en la actividad de blackboard."
   ]
  },
  {
   "cell_type": "markdown",
   "id": "87481e31-1942-4008-9adb-1dda0756e6f9",
   "metadata": {},
   "source": [
    "# Olympics"
   ]
  },
  {
   "cell_type": "markdown",
   "id": "d1101019-b094-441b-bfa5-feee6300dae7",
   "metadata": {},
   "source": [
    "### A1 - Leer Datasets - 10%\n",
    "- En Kaggle existen dos datasets sobre las olimpiadas modernas\n",
    "  - Atletas y resultados de medallas, desde 1896 a 2016, https://www.kaggle.com/heesoo37/120-years-of-olympic-history-athletes-and-results\n",
    "  - Resultados de atletismo, desde 1896 a 2016, https://www.kaggle.com/jayrav13/olympic-track-field-results\n",
    "  \n",
    "- Obtener y leer los ficheros csv en dataframes de pandas"
   ]
  },
  {
   "cell_type": "code",
   "execution_count": 91,
   "id": "b1334058-4862-4bf3-8003-727da741f333",
   "metadata": {},
   "outputs": [
    {
     "name": "stdout",
     "output_type": "stream",
     "text": [
      "            ID                      Name Sex   Age  Height  Weight  \\\n",
      "0            1                 A Dijiang   M  24.0   180.0    80.0   \n",
      "1            2                  A Lamusi   M  23.0   170.0    60.0   \n",
      "2            3       Gunnar Nielsen Aaby   M  24.0     NaN     NaN   \n",
      "3            4      Edgar Lindenau Aabye   M  34.0     NaN     NaN   \n",
      "4            5  Christine Jacoba Aaftink   F  21.0   185.0    82.0   \n",
      "...        ...                       ...  ..   ...     ...     ...   \n",
      "271111  135569                Andrzej ya   M  29.0   179.0    89.0   \n",
      "271112  135570                  Piotr ya   M  27.0   176.0    59.0   \n",
      "271113  135570                  Piotr ya   M  27.0   176.0    59.0   \n",
      "271114  135571        Tomasz Ireneusz ya   M  30.0   185.0    96.0   \n",
      "271115  135571        Tomasz Ireneusz ya   M  34.0   185.0    96.0   \n",
      "\n",
      "                  Team  NOC        Games  Year  Season            City  \\\n",
      "0                China  CHN  1992 Summer  1992  Summer       Barcelona   \n",
      "1                China  CHN  2012 Summer  2012  Summer          London   \n",
      "2              Denmark  DEN  1920 Summer  1920  Summer       Antwerpen   \n",
      "3       Denmark/Sweden  DEN  1900 Summer  1900  Summer           Paris   \n",
      "4          Netherlands  NED  1988 Winter  1988  Winter         Calgary   \n",
      "...                ...  ...          ...   ...     ...             ...   \n",
      "271111        Poland-1  POL  1976 Winter  1976  Winter       Innsbruck   \n",
      "271112          Poland  POL  2014 Winter  2014  Winter           Sochi   \n",
      "271113          Poland  POL  2014 Winter  2014  Winter           Sochi   \n",
      "271114          Poland  POL  1998 Winter  1998  Winter          Nagano   \n",
      "271115          Poland  POL  2002 Winter  2002  Winter  Salt Lake City   \n",
      "\n",
      "                Sport                                     Event Medal  \n",
      "0          Basketball               Basketball Men's Basketball   NaN  \n",
      "1                Judo              Judo Men's Extra-Lightweight   NaN  \n",
      "2            Football                   Football Men's Football   NaN  \n",
      "3          Tug-Of-War               Tug-Of-War Men's Tug-Of-War  Gold  \n",
      "4       Speed Skating          Speed Skating Women's 500 metres   NaN  \n",
      "...               ...                                       ...   ...  \n",
      "271111           Luge                Luge Mixed (Men)'s Doubles   NaN  \n",
      "271112    Ski Jumping  Ski Jumping Men's Large Hill, Individual   NaN  \n",
      "271113    Ski Jumping        Ski Jumping Men's Large Hill, Team   NaN  \n",
      "271114      Bobsleigh                      Bobsleigh Men's Four   NaN  \n",
      "271115      Bobsleigh                      Bobsleigh Men's Four   NaN  \n",
      "\n",
      "[271116 rows x 15 columns]\n",
      "\n",
      "\n",
      "     Gender              Event Location  Year Medal                   Name  \\\n",
      "0         M         10000M Men      Rio  2016     G          Mohamed FARAH   \n",
      "1         M         10000M Men      Rio  2016     S  Paul Kipngetich TANUI   \n",
      "2         M         10000M Men      Rio  2016     B           Tamirat TOLA   \n",
      "3         M         10000M Men  Beijing  2008     G        Kenenisa BEKELE   \n",
      "4         M         10000M Men  Beijing  2008     S         Sileshi SIHINE   \n",
      "...     ...                ...      ...   ...   ...                    ...   \n",
      "2377      W  Triple Jump Women   Athens  2004     S      Hrysopiyi DEVETZI   \n",
      "2378      W  Triple Jump Women   Athens  2004     B       Tatyana LEBEDEVA   \n",
      "2379      W  Triple Jump Women  Atlanta  1996     G         Inessa KRAVETS   \n",
      "2380      W  Triple Jump Women  Atlanta  1996     S        Inna LASOVSKAYA   \n",
      "2381      W  Triple Jump Women  Atlanta  1996     B       Sarka KASPARKOVA   \n",
      "\n",
      "     Nationality    Result  \n",
      "0            USA  25:05.17  \n",
      "1            KEN  27:05.64  \n",
      "2            ETH  27:06.26  \n",
      "3            ETH  27:01.17  \n",
      "4            ETH  27:02.77  \n",
      "...          ...       ...  \n",
      "2377         GRE     15.25  \n",
      "2378         RUS     15.14  \n",
      "2379         UKR     15.33  \n",
      "2380         RUS     14.98  \n",
      "2381         CZE     14.98  \n",
      "\n",
      "[2382 rows x 8 columns]\n"
     ]
    },
    {
     "name": "stderr",
     "output_type": "stream",
     "text": [
      "b'Skipping line 156: expected 8 fields, saw 9\\nSkipping line 157: expected 8 fields, saw 9\\nSkipping line 158: expected 8 fields, saw 9\\nSkipping line 317: expected 8 fields, saw 9\\nSkipping line 318: expected 8 fields, saw 9\\nSkipping line 319: expected 8 fields, saw 9\\nSkipping line 1658: expected 8 fields, saw 9\\nSkipping line 1659: expected 8 fields, saw 9\\nSkipping line 1660: expected 8 fields, saw 9\\nSkipping line 1784: expected 8 fields, saw 9\\nSkipping line 1785: expected 8 fields, saw 9\\nSkipping line 1786: expected 8 fields, saw 9\\n'\n"
     ]
    }
   ],
   "source": [
    "#importamos las librerías\n",
    "import numpy as np\n",
    "import pandas as pd\n",
    "import requests\n",
    "from pandas import DataFrame\n",
    "\n",
    "\n",
    "#Lectura y almacenamiento de datos desde la URL\n",
    "\n",
    "#Resultados en los últimos 120 años\n",
    "url1 = '../src/athlete_events.csv'\n",
    "events = pd.read_csv(url1, sep=',', warn_bad_lines=True, error_bad_lines=False)\n",
    "\n",
    "#Pruebas olímpicas y resultados\n",
    "url2 = '../src/results.csv'\n",
    "results = pd.read_csv(url2, sep=',', warn_bad_lines=True, error_bad_lines=False)\n",
    "\n",
    "#Impresión de los ficheros completos\n",
    "print(events)\n",
    "print('\\n')\n",
    "print(results)"
   ]
  },
  {
   "cell_type": "markdown",
   "id": "cef9a11a-f703-4391-a694-200113119a23",
   "metadata": {},
   "source": [
    "### A2 - Análisis - 45%\n",
    "- Obtener un gráfico de barras con la evolución del número de deportes por año, eje X años, eje Y número de deportes\n",
    "![sports_per_year](res/sports_per_year.png)\n",
    "- Gráfico con la evolución de la participación femenina en las olimpiadas a lo largo de la historia, eje X años, eje Y número de atletas, para cada año una barra para cada sexo\n",
    "![sex](res/sex.png)\n",
    "- Gráfico con los 50 paises con más medallas en toda la historia, en cada barra el nombre completo del pais, longitud de cada barra, total de medallas obtenidas por pais\n",
    "![medallero](res/medallero.png)"
   ]
  },
  {
   "cell_type": "code",
   "execution_count": 90,
   "id": "044f82ca-b3bd-4d88-8fd7-7bc8e200fb57",
   "metadata": {},
   "outputs": [
    {
     "data": {
      "image/png": "[encoded data removed]",
      "text/plain": [
       "<Figure size 2520x432 with 1 Axes>"
      ]
     },
     "metadata": {
      "needs_background": "light"
     },
     "output_type": "display_data"
    }
   ],
   "source": [
    "#importamos matoplib\n",
    "import matplotlib.pyplot as plt\n",
    "\n",
    "#obtener los datos del Dataframe\n",
    "years = np.sort(events['Year'].unique())    \n",
    "sports_per_year = []\n",
    "for i in range (len(years)):\n",
    "    sports_per_year.append(len(events[events['Year'] == years[i]]['Event'].unique()))\n",
    "    \n",
    "# Obtener un gráfico de barras con la evolución del número de deportes por año, eje X años, eje Y número de deportes\n",
    "\n",
    "#Damos título al Gráfico\n",
    "\n",
    "#Creamos la grafica de barras utilizando 'Years' como eje X y 'Number of Sports' como eje y.\n",
    "\n",
    "\n",
    "plt.figure(figsize = (35,6))\n",
    "plt.bar(years, sports_per_year)\n",
    "plt.title('Number of sports over the year')\n",
    "\n",
    "plt.xticks(years, years)\n",
    "plt.xlabel('Years')\n",
    "plt.ylabel('Sports')\n",
    "\n",
    "#Finalmente mostramos la grafica con el metodo show()\n",
    "plt.show()\n"
   ]
  },
  {
   "cell_type": "code",
   "execution_count": null,
   "id": "de4f8d3a-c3f2-4a81-a227-6e874ad14904",
   "metadata": {},
   "outputs": [],
   "source": [
    "#Gráfico con la evolución de la participación femenina en las olimpiadas a lo largo de la historia, eje X años, eje Y número de atletas, para cada año una barra para cada sexo\n",
    "\n",
    "\n"
   ]
  },
  {
   "cell_type": "code",
   "execution_count": null,
   "id": "2a9d0d96-2c69-44cf-aa91-f56769c5d298",
   "metadata": {},
   "outputs": [],
   "source": [
    "#Gráfico con los 50 paises con más medallas en toda la historia, en cada barra el nombre completo del pais, longitud de cada barra, total de medallas obtenidas por pais \n",
    "\n",
    "\n"
   ]
  },
  {
   "cell_type": "markdown",
   "id": "f09041ab-b8f5-4ca1-96e8-63e7c407856e",
   "metadata": {},
   "source": [
    "### A3 - Machine Learning - 45%\n",
    "\n",
    "- Crear un modelo capaz de predecir el tiempo que va a hacer un atleta en la prueba de los 100 metros lisos, en función de su edad, sexo, peso y altura.\n",
    "![model](res/model.png)"
   ]
  },
  {
   "cell_type": "code",
   "execution_count": null,
   "id": "f1c844f2-89cc-4367-aa9b-79e8f68a5ee5",
   "metadata": {},
   "outputs": [],
   "source": [
    "#https://www.w3schools.com/python/python_ml_getting_started.asp"
   ]
  }
 ],
 "metadata": {
  "kernelspec": {
   "display_name": "Python 3",
   "language": "python",
   "name": "python3"
  },
  "language_info": {
   "codemirror_mode": {
    "name": "ipython",
    "version": 3
   },
   "file_extension": ".py",
   "mimetype": "text/x-python",
   "name": "python",
   "nbconvert_exporter": "python",
   "pygments_lexer": "ipython3",
   "version": "3.8.8"
  }
 },
 "nbformat": 4,
 "nbformat_minor": 5
}
