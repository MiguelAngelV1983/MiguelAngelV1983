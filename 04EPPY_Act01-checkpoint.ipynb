{
 "cells": [
  {
   "cell_type": "markdown",
   "id": "9fdae373-c03d-4bff-a368-07a3fc234878",
   "metadata": {},
   "source": [
    "<img src=\"../img/viu_logo.png\" width=\"200\">\n",
    "\n",
    "## 04EPPY - Actividad 1\n",
    "\n",
    "25% de la Nota Final\n",
    "\n",
    "### Fecha Entrega\n",
    "- Convocatoria 1 - 29/07/2021\n",
    "- Convocatoria 2 - 06/10/2021\n",
    "\n",
    "### Instrucciones:\n",
    "- Crear un notebook de Python3 que servirá como entrega de la actividad.\n",
    "- Separar bien los apartados propuestos con celdas Markdown.\n",
    "- Mantener una estructura limpia, comentando código y secuenciando los apartados con el código correspondiente que resuelva la actividad.\n",
    "- Como criterio de evaluación se tendrá en cuenta el resultado, la consecución del mismo, estilo, comentarios y adecuación.\n",
    "- No está permitido compartir los resultados ni el código en ninguno de los foros. \n",
    "\n",
    "### Entrega:\n",
    "- Un solo documento en formato notebook: .ipynb\n",
    "- Para hacer la entrega hay que hacer un tag al repositorio en una fecha anterior a la fecha de entrega de la actividad, y pegar el enlace al tag del repositorio en la actividad de blackboard."
   ]
  },
  {
   "cell_type": "markdown",
   "id": "5875a562-1cb6-478a-b158-9f8166f0e397",
   "metadata": {},
   "source": [
    "### A1 - Ficheros - 15%\n",
    "- Descarga datos mediante la siguiente url https://raw.githubusercontent.com/grammakov/USA-cities-and-states/master/us_cities_states_counties.csv\n",
    "- Imprimir el número de ciudades que tiene el estado de Florida\n",
    "- Resolver el problema de dos maneras distintas, una usando pandas y otra sin usar ninguna librería (solo Python standard)"
   ]
  },
  {
   "cell_type": "code",
   "execution_count": 1,
   "id": "f452c47e",
   "metadata": {},
   "outputs": [],
   "source": [
    "#importamos las librerías\n",
    "import pandas as pd\n",
    "import requests\n",
    "from pandas import DataFrame\n",
    "\n",
    "#Creación de variable contador para almacenar total\n",
    "contador = 0\n",
    "#Lectura y guardado de datos desde la URL\n",
    "url = \"https://raw.githubusercontent.com/grammakov/USA-cities-and-states/master/us_cities_states_counties.csv\"\n",
    "a = pd.read_csv(url, delimiter='|', header= 0,\n",
    "            names = ['City', 'State short', 'State full','Country',\n",
    "            'City Alias'],\n",
    "            na_values='?')\n",
    "\n",
    "#Impresión del fichero completo\n",
    "print(a)\n",
    "#Cuento el total de ciudades del estado de Florida y lo imprimo\n",
    "contador = len(a[a[\"State full\"]==\"Florida\"])\n",
    "print(\"El total de ciudades del Estado de Florida es de: \" + str(contador))"
   ]
  },
  {
   "cell_type": "markdown",
   "id": "34864ece-3a19-4722-a799-81cb2ea3713e",
   "metadata": {},
   "source": [
    "### A3 - 10%\n",
    "- Explica y expón, con un ejemplo propio, el broadcasting de NumPy"
   ]
  },
  {
   "cell_type": "code",
   "execution_count": null,
   "id": "a1bde5b3",
   "metadata": {},
   "outputs": [],
   "source": [
    " '''Broadcasting: proceso automático implementado en las operaciones de numpy para hacer más eficientes los cálculos con \n",
    " arreglos multidimensionales donde, siempre que no haya ambiguedad, se procede del siguiente modo:\n",
    "\n",
    "    En caso necesario, toma el arreglo de menor forma (shape) y agrega 1’s por la izquierda a la forma para hacerlos \n",
    "    compatibles.\n",
    "\n",
    "    De ser necesario, replica el arreglo en los ejes (axes) con forma igual a 1, hasta que alcance la forma del arreglo \n",
    "    de mayor forma.\n",
    "'''\n",
    "import numpy as np\n",
    "import pprint\n",
    "\n",
    "# arreglo de 3 números enteros aleatorios distribucion uniforme [low, high)\n",
    "X = np.random.randint(low=1,high=10, size=(3,3))  \n",
    "Y = np.random.randint(low=1,high=10, size=(3,1))\n",
    "Z = np.random.randint(low=1,high=10, size=(3))\n",
    "\n",
    "print('X.shape =', X.shape) \n",
    "print('Y.shape =', Y.shape) \n",
    "print('Z.shape =', Z.shape) \n",
    "\n",
    "pp.pprint('matriz de 3x3, X=')\n",
    "pp.pprint(X)\n",
    "\n",
    "pp.pprint('vector columna de tamaño 3, Y= ')\n",
    "pp.pprint(Y)\n",
    "\n",
    "pp.pprint('vector columna de tamaño 3, Z= ')\n",
    "pp.pprint(Z)\n",
    "\n",
    "X.shape = (3, 3)\n",
    "Y.shape = (3, 1)\n",
    "Z.shape = (3,)\n",
    "'matriz de 3x3, X='\n",
    "array([[4, 1, 2],\n",
    "       [8, 8, 5],\n",
    "       [3, 7, 6]])\n",
    "'vector columna de tamaño 3, Y= '\n",
    "array([[7],\n",
    "       [2],\n",
    "       [1]])\n",
    "'vector columna de tamaño 3, Z= '\n",
    "array([7, 2, 3])\n"
   ]
  },
  {
   "cell_type": "markdown",
   "id": "244440b1-10dd-46ec-9db1-c9bc463339bb",
   "metadata": {},
   "source": [
    " A2 - 15%\n",
    "- Genera una matriz con valores aleatorios de 0 a 100 de dimensiones 16x16\n",
    "- Calcula los siguentes estadísticos en la matriz anterior, por fila (el resultado de cada uno debe ser un array de dimensiones 16x1)\n",
    "  - Suma de los elementos de cada fila\n",
    "  - Media de los elementos de cada fila\n",
    "  - Valores mínimos de cada fila\n",
    "  - Valores máximos de cada fila"
   ]
  },
  {
   "cell_type": "code",
   "execution_count": null,
   "id": "21e57059",
   "metadata": {},
   "outputs": [],
   "source": [
    "#importamos librería randint\n",
    "from random import randint\n",
    "#importamos pandas\n",
    "import pandas as pd\n",
    "#creamos la función para llenar la matriz\n",
    "def llenar_matriz(n):\n",
    "    matriz = []\n",
    "    #recorremos para llenar con valores aleatorios los elementos de la matriz y los agregamos\n",
    "    for r in range(n):\n",
    "        fila = []\n",
    "        for c in range(n):\n",
    "            fila.append(randint(0,100))\n",
    "        matriz.append(fila)\n",
    "    return matriz\n",
    "#imprimimos el resultado\n",
    "resultado = llenar_matriz(16)\n",
    "print(resultado)\n",
    "\n",
    "#sumar elementos de cada fila\n",
    "elementos = 0\n",
    "suma = 0\n",
    "for fila in matriz:\n",
    "    for elemento in fila:\n",
    "        suma+=elemento\n",
    "        elementos+=1\n",
    "print(f\"La suma es {suma})\n",
    "      \n",
    "#calculo la media\n",
    "\n",
    "media = suma / elementos\n",
    "\n",
    "print (\"Ls media es \" + str(media))\n",
    "#calculamos el máximo y el mínimo de cada serie\n",
    "      \n",
    "serie = pd.series(matriz)\n",
    "\n",
    "print(\"El valor mínimo es \" + str(serie.min))\n",
    "print(\"El valor máximo es \" + str(serie.max))\n",
    "    \n"
   ]
  },
  {
   "cell_type": "markdown",
   "id": "259ae7a1-cd8f-49ba-9a37-df18df91697e",
   "metadata": {},
   "source": [
    "### A4 - 10%\n",
    "- Resolución de dos sistemas de ecuaciones\n",
    "    - $ A : \\begin{cases} -9y +  4x = 20 \\\\ -7y + 16x = 80                         \\end{cases}$\n",
    "    - $ B : \\begin{cases} x - 2y + 3z = 7 \\\\ 2x + y + z = 4 \\\\ -3x + 2y -2z = -10 \\end{cases}$"
   ]
  },
  {
   "cell_type": "code",
   "execution_count": 6,
   "id": "5069c923",
   "metadata": {},
   "outputs": [
    {
     "name": "stdout",
     "output_type": "stream",
     "text": [
      "[[5.]\n",
      " [0.]]\n",
      "[[ 2.]\n",
      " [-1.]\n",
      " [ 1.]]\n"
     ]
    }
   ],
   "source": [
    "import numpy as np\n",
    "A = np.matrix([[4,-9],[16, -7]])\n",
    "Sol_A = np.matrix([[20],[80]])\n",
    "x_A = (A**-1)*Sol_A\n",
    "print(x_A)\n",
    "\n",
    "import numpy as np\n",
    "B = np.matrix([[1,-2,3],[2,1,1],[-3,2,-2]])\n",
    "Sol_B = np.matrix([[7],[4],[-10]])\n",
    "x_B = (B**-1)*Sol_B\n",
    "print(x_B)\n"
   ]
  },
  {
   "cell_type": "markdown",
   "id": "223c255a-8785-4b74-9584-f3a3df89db58",
   "metadata": {},
   "source": [
    "### A5 - 15%\n",
    "- Crear un DataFrame de dimensiones 10x10, con números aleatorios en el rango `[0,20]`\n",
    "- Reemplazar todos aquellos elementos menores de 5 por NaN\n",
    "- Averiguar cuantos elementos tienen Nan por fila"
   ]
  },
  {
   "cell_type": "code",
   "execution_count": null,
   "id": "efed7508",
   "metadata": {},
   "outputs": [],
   "source": [
    "#importamos librería randint\n",
    "from random import randint\n",
    "#importamos pandas\n",
    "import pandas as pd\n",
    "#creamos la función para llenar el dataframe\n",
    "def llenar_dataframe(n):\n",
    "    df = []\n",
    "    for r in range(n):\n",
    "        fila = []\n",
    "        for c in range(n):\n",
    "            fila.append(randint(0,20))\n",
    "        df.append(fila)\n",
    "    return df\n",
    "#imprimimos el resultado\n",
    "resultado1= llenar_dataframe(10)\n",
    "\n",
    "#sustituyo numeros < 5 por NAN\n",
    "\n",
    "def replace_lower_five(n):\n",
    "    for r in range(n):\n",
    "        if(df[r] < 5):\n",
    "            df[r]= None\n",
    "    return df\n",
    "\n",
    "#imprimimos el resultado\n",
    "resultado2 = replace_lower_five(resultado1)"
   ]
  },
  {
   "cell_type": "code",
   "execution_count": 10,
   "id": "a9448271",
   "metadata": {},
   "outputs": [
    {
     "ename": "AttributeError",
     "evalue": "'list' object has no attribute 'shape'",
     "output_type": "error",
     "traceback": [
      "\u001b[1;31m---------------------------------------------------------------------------\u001b[0m",
      "\u001b[1;31mAttributeError\u001b[0m                            Traceback (most recent call last)",
      "\u001b[1;32m<ipython-input-10-b88df28df973>\u001b[0m in \u001b[0;36m<module>\u001b[1;34m\u001b[0m\n\u001b[0;32m     25\u001b[0m \u001b[1;33m\u001b[0m\u001b[0m\n\u001b[0;32m     26\u001b[0m \u001b[1;34m'''imprimimos el resultado'''\u001b[0m\u001b[1;33m\u001b[0m\u001b[1;33m\u001b[0m\u001b[0m\n\u001b[1;32m---> 27\u001b[1;33m \u001b[0mresultado2\u001b[0m \u001b[1;33m=\u001b[0m \u001b[0mreplace_lower_five\u001b[0m\u001b[1;33m(\u001b[0m\u001b[0mresultado1\u001b[0m\u001b[1;33m)\u001b[0m\u001b[1;33m\u001b[0m\u001b[1;33m\u001b[0m\u001b[0m\n\u001b[0m\u001b[0;32m     28\u001b[0m \u001b[1;33m\u001b[0m\u001b[0m\n\u001b[0;32m     29\u001b[0m \u001b[0mprint\u001b[0m\u001b[1;33m(\u001b[0m\u001b[0mresultado1\u001b[0m\u001b[1;33m)\u001b[0m\u001b[1;33m\u001b[0m\u001b[1;33m\u001b[0m\u001b[0m\n",
      "\u001b[1;32m<ipython-input-10-b88df28df973>\u001b[0m in \u001b[0;36mreplace_lower_five\u001b[1;34m(df)\u001b[0m\n\u001b[0;32m     18\u001b[0m \u001b[1;33m\u001b[0m\u001b[0m\n\u001b[0;32m     19\u001b[0m \u001b[1;32mdef\u001b[0m \u001b[0mreplace_lower_five\u001b[0m\u001b[1;33m(\u001b[0m\u001b[0mdf\u001b[0m\u001b[1;33m)\u001b[0m\u001b[1;33m:\u001b[0m\u001b[1;33m\u001b[0m\u001b[1;33m\u001b[0m\u001b[0m\n\u001b[1;32m---> 20\u001b[1;33m     \u001b[1;32mfor\u001b[0m \u001b[0mi\u001b[0m \u001b[1;32min\u001b[0m \u001b[0mrange\u001b[0m\u001b[1;33m(\u001b[0m\u001b[0mdf\u001b[0m\u001b[1;33m.\u001b[0m\u001b[0mshape\u001b[0m\u001b[1;33m[\u001b[0m\u001b[1;36m0\u001b[0m\u001b[1;33m]\u001b[0m\u001b[1;33m)\u001b[0m\u001b[1;33m:\u001b[0m\u001b[1;33m\u001b[0m\u001b[1;33m\u001b[0m\u001b[0m\n\u001b[0m\u001b[0;32m     21\u001b[0m         \u001b[1;32mfor\u001b[0m \u001b[0mj\u001b[0m \u001b[1;32min\u001b[0m \u001b[0mrange\u001b[0m\u001b[1;33m(\u001b[0m\u001b[0mdf\u001b[0m\u001b[1;33m.\u001b[0m\u001b[0mshape\u001b[0m\u001b[1;33m[\u001b[0m\u001b[1;36m1\u001b[0m\u001b[1;33m]\u001b[0m\u001b[1;33m)\u001b[0m\u001b[1;33m:\u001b[0m\u001b[1;33m\u001b[0m\u001b[1;33m\u001b[0m\u001b[0m\n\u001b[0;32m     22\u001b[0m             \u001b[1;32mif\u001b[0m\u001b[1;33m(\u001b[0m\u001b[0mdf\u001b[0m\u001b[1;33m[\u001b[0m\u001b[0mi\u001b[0m\u001b[1;33m,\u001b[0m\u001b[0mj\u001b[0m\u001b[1;33m]\u001b[0m \u001b[1;33m<\u001b[0m \u001b[1;36m5\u001b[0m\u001b[1;33m)\u001b[0m\u001b[1;33m:\u001b[0m\u001b[1;33m\u001b[0m\u001b[1;33m\u001b[0m\u001b[0m\n",
      "\u001b[1;31mAttributeError\u001b[0m: 'list' object has no attribute 'shape'"
     ]
    }
   ],
   "source": [
    "#importamos librería randint\n",
    "from random import randint\n",
    "#importamos pandas\n",
    "import pandas as pd\n",
    "#creamos la función para llenar el dataframe\n",
    "def llenar_dataframe(n):\n",
    "    df = []\n",
    "    for r in range(n):\n",
    "        fila = []\n",
    "        for c in range(n):\n",
    "            fila.append(randint(0,20))\n",
    "        df.append(fila)\n",
    "    return df\n",
    "#imprimimos el resultado\n",
    "resultado1= llenar_dataframe(10)\n",
    "\n",
    "#sustituyo numeros < 5 por NAN\n",
    "\n",
    "def replace_lower_five(df):\n",
    "    for i in range(df.shape[0]):\n",
    "        for j in range(df.shape[1]):\n",
    "            if(df[i,j] < 5):\n",
    "                df[i,j]= None\n",
    "    return df\n",
    "\n",
    "#imprimimos el resultado\n",
    "resultado2 = replace_lower_five(resultado1)\n",
    "    \n",
    "print(resultado1)\n",
    "print(resultado2)"
   ]
  },
  {
   "cell_type": "markdown",
   "id": "3405e958-70f5-472e-8fe2-940fb0a1551c",
   "metadata": {},
   "source": [
    "### A6 - 20%\n",
    "- Se tienen tres datasets, se adjuntan sus datos como diccionarios\n",
    "  - Students, representa un conjunto de alumnos, con sus nombres, edad y sexo\n",
    "  - Subjects, un conjunto de asignaturas, con su nombre y el semestre en que se imparten\n",
    "  - Marks, un conjunto de notas que han obtenido los alumnos en las asignaturas\n",
    "- Obtener la siguiente información usando Pandas\n",
    "  - El nombre del alumno con la mejor nota, y en que asignatura ha sido\n",
    "  - Cuantos alumnos tienen asignaturas suspendidas en el primer semestre\n",
    "  - La media de edad de los asistentes a la asignatura de Python\n",
    "  - Formar una palabra con las iniciales de los nombres de los estudiantes ordenados por edad\n",
    "- Representar graficamente\n",
    "  - Las notas medias de todos los estudiantes por asignatura, agrupando por sexo\n",
    "  - La densidad bivariable de la edad de los estudiantes frente a sus notas, agrupando por sexo (mostrando los datos de dispersion en la zona central, las curvas de densidad en los ejes)"
   ]
  },
  {
   "cell_type": "code",
   "execution_count": null,
   "id": "6e2c3704-d42b-4348-8707-ec1cbb04bbc2",
   "metadata": {},
   "outputs": [],
   "source": [
    "students = {'StudentId': [1,2,3,4,5,6], 'Name' : ['Yael','Thomas','Paula','Orlando','Hannah','Nicole'], 'Age' : [22,31,19,44,39,51], 'Sex' : ['M', 'M', 'F', 'M', 'F', 'F']}\n",
    "subjects = {'SubjectId': [1,2,3], 'Name': ['Python', 'Math', 'DeepLearning'], 'Semester': [1, 1, 2]}\n",
    "marks = {'StudentId' : [2,2,1,3,6,4,4,3,2,5], 'SubjectId' : [1,3,1,2,1,2,3,1,2,1], 'Mark': [6,5,8,3,5,2,7,2,4,6]}"
   ]
  },
  {
   "cell_type": "markdown",
   "id": "ddce6164-aee4-4b5a-a0c6-2f5cfaf1cf63",
   "metadata": {},
   "source": [
    "### A7 - 15%\n",
    "- Dadas dos Series de Pandas, implementar una función 'find_not_common' para encontrar los elementos no comunes a ambas Series\n",
    "- Se proveen dos series como referencia, el resultado para este ejemplo debe ser una serie con los elementos [4, 6, 14, 16]"
   ]
  },
  {
   "cell_type": "code",
   "execution_count": 11,
   "id": "104d2d3f-d875-4eeb-ad28-77b89f020432",
   "metadata": {},
   "outputs": [
    {
     "ename": "NameError",
     "evalue": "name 'find_not_common' is not defined",
     "output_type": "error",
     "traceback": [
      "\u001b[1;31m---------------------------------------------------------------------------\u001b[0m",
      "\u001b[1;31mNameError\u001b[0m                                 Traceback (most recent call last)",
      "\u001b[1;32m<ipython-input-11-d0897229310d>\u001b[0m in \u001b[0;36m<module>\u001b[1;34m\u001b[0m\n\u001b[0;32m      2\u001b[0m \u001b[0mp2\u001b[0m \u001b[1;33m=\u001b[0m \u001b[0mpd\u001b[0m\u001b[1;33m.\u001b[0m\u001b[0mSeries\u001b[0m\u001b[1;33m(\u001b[0m\u001b[1;33m[\u001b[0m\u001b[1;36m8\u001b[0m\u001b[1;33m,\u001b[0m \u001b[1;36m10\u001b[0m\u001b[1;33m,\u001b[0m \u001b[1;36m12\u001b[0m\u001b[1;33m,\u001b[0m \u001b[1;36m10\u001b[0m\u001b[1;33m,\u001b[0m \u001b[1;36m14\u001b[0m\u001b[1;33m,\u001b[0m \u001b[1;36m2\u001b[0m\u001b[1;33m,\u001b[0m \u001b[1;36m16\u001b[0m\u001b[1;33m,\u001b[0m \u001b[1;36m10\u001b[0m\u001b[1;33m]\u001b[0m\u001b[1;33m)\u001b[0m\u001b[1;33m\u001b[0m\u001b[1;33m\u001b[0m\u001b[0m\n\u001b[0;32m      3\u001b[0m \u001b[1;33m\u001b[0m\u001b[0m\n\u001b[1;32m----> 4\u001b[1;33m \u001b[0mprint\u001b[0m\u001b[1;33m(\u001b[0m\u001b[0mfind_not_common\u001b[0m\u001b[1;33m(\u001b[0m\u001b[0mp1\u001b[0m\u001b[1;33m,\u001b[0m \u001b[0mp2\u001b[0m\u001b[1;33m)\u001b[0m\u001b[1;33m.\u001b[0m\u001b[0mequals\u001b[0m\u001b[1;33m(\u001b[0m\u001b[0mpd\u001b[0m\u001b[1;33m.\u001b[0m\u001b[0mSeries\u001b[0m\u001b[1;33m(\u001b[0m\u001b[1;33m[\u001b[0m\u001b[1;36m4\u001b[0m\u001b[1;33m,\u001b[0m \u001b[1;36m6\u001b[0m\u001b[1;33m,\u001b[0m \u001b[1;36m14\u001b[0m\u001b[1;33m,\u001b[0m \u001b[1;36m16\u001b[0m\u001b[1;33m]\u001b[0m\u001b[1;33m)\u001b[0m\u001b[1;33m)\u001b[0m\u001b[1;33m)\u001b[0m \u001b[1;31m# Esto deberia imprimir True\u001b[0m\u001b[1;33m\u001b[0m\u001b[1;33m\u001b[0m\u001b[0m\n\u001b[0m",
      "\u001b[1;31mNameError\u001b[0m: name 'find_not_common' is not defined"
     ]
    }
   ],
   "source": [
    "p1 = pd.Series([2, 4, 12, 6, 8, 10])\n",
    "p2 = pd.Series([8, 10, 12, 10, 14, 2, 16, 10])\n",
    "\n",
    "print(find_not_common(p1, p2).equals(pd.Series([4, 6, 14, 16]))) # Esto deberia imprimir True"
   ]
  },
  {
   "cell_type": "code",
   "execution_count": null,
   "id": "e2cf386f",
   "metadata": {},
   "outputs": [],
   "source": []
  }
 ],
 "metadata": {
  "kernelspec": {
   "display_name": "Python 3",
   "language": "python",
   "name": "python3"
  },
  "language_info": {
   "codemirror_mode": {
    "name": "ipython",
    "version": 3
   },
   "file_extension": ".py",
   "mimetype": "text/x-python",
   "name": "python",
   "nbconvert_exporter": "python",
   "pygments_lexer": "ipython3",
   "version": "3.8.8"
  }
 },
 "nbformat": 4,
 "nbformat_minor": 5
}
