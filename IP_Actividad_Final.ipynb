{
 "cells": [
  {
   "cell_type": "markdown",
   "id": "scheduled-outline",
   "metadata": {},
   "source": [
    "<img src=\"img/viu_logo.png\" width=\"200\"><img src=\"img/python_logo.png\" width=\"250\"> *Mario Cervera*"
   ]
  },
  {
   "cell_type": "markdown",
   "id": "assumed-serum",
   "metadata": {},
   "source": [
    "# Introducción a la Programación - Actividad Final"
   ]
  },
  {
   "cell_type": "markdown",
   "id": "accepted-fortune",
   "metadata": {},
   "source": [
    "### Objetivos"
   ]
  },
  {
   "cell_type": "markdown",
   "id": "accepted-correction",
   "metadata": {},
   "source": [
    "El objetivo de esta actividad es aplicar los conocimientos vistos en la asignatura:\n",
    "\n",
    "- Tipos básicos y compuestos.\n",
    "- Estructuras de control.\n",
    "- Uso de excepciones.\n",
    "- Funciones.\n",
    "- Docstrings.\n",
    "- Estructuras de datos.\n",
    "- Algoritmos.\n",
    "- Programación orientada a objetos.\n",
    "- Testing."
   ]
  },
  {
   "cell_type": "markdown",
   "id": "further-satin",
   "metadata": {},
   "source": [
    "### Indicaciones generales"
   ]
  },
  {
   "cell_type": "markdown",
   "id": "ancient-cyprus",
   "metadata": {},
   "source": [
    "* En este documento se describen en detalle las funcionalidades mínimas a desarrollar. El desarrollo correcto de las funcionalidades descritas garantiza el aprobado de la actividad, pero, idealmente, el alumno deberá implementar alguna funcionalidad extra, menos detallada en los enunciados. Respecto a estas funcionalidades extra, los enunciados dan algunas directrices que pueden servir de orientación al estudiante.\n",
    "* Para la evaluación de la actividad se tendrá en cuenta la aplicación de buenas prácticas y la limpieza del código.\n",
    "* Se debe añadir documentación al código (docstrings).\n",
    "* La actividad se debe entregar en este mismo notebook (fichero *.ipynb*), añadiendo las celdas de código necesarias para la resolución de los ejercicios.\n",
    "* El valor de esta actividad es de un 50% sobre la nota final de la asignatura."
   ]
  },
  {
   "cell_type": "markdown",
   "id": "opened-baseline",
   "metadata": {},
   "source": [
    "### Actividades"
   ]
  },
  {
   "cell_type": "markdown",
   "id": "sunset-messenger",
   "metadata": {},
   "source": [
    "**1.** *(5 puntos)* Implementa una clase *ColaPrioridad* que permita el almacenamiento de objetos ordenados por prioridad. Esta cola de prioridad tiene la peculiaridad de que mantiene un rango de prioridades (numéricas de tipo entero) válidas. Es decir, al instanciar objetos de la clase *ColaPrioridad*, se debe especificar una prioridad mínima y una máxima, y ninguna prioridad fuera de este rango será válida. Podéis asumir que el rango de prioridades siempre será pequeño (es decir, que la diferencia entre la prioridad mínima y máxima nunca será muy elevada), y que este rango no puede modificarse una vez el objeto de tipo *ColaPrioridad* ha sido creado. Teniendo esto en cuenta, la clase *ColaPrioridad* permitirá:\n",
    "\n",
    "   * Insertar un objeto con una prioridad dada. Si la prioridad indicada está fuera de rango, se lanzará un error. Ejemplo: inserción del objeto *'a'* con prioridad 3.\n",
    "   * Insertar un objeto, sin especificar prioridad. Esta operación será valida únicamente para objetos numéricos de tipo entero. El valor del número será su propia prioridad. Ejemplo: insertar el objeto 4 (cuya prioridad será 4 de manera implícita). Si la prioridad está fuera de rango, se lanzará un error.\n",
    "   * Extraer el objeto de mayor prioridad en toda la cola de prioridad. En caso de empate (es decir, si más de un objeto tiene la prioridad mayor), el orden de extración será en base al orden de inserción (first in, first out). Es decir, para cada posible prioridad, se debe mantener una cola de objetos.\n",
    "   * Extraer el objeto más prioritario dada una prioridad concreta. Si existe más de un objeto con la misma prioridad, el orden de extración será también en base al orden de inserción (first in, first out).\n",
    "   * Funcionalidades extra.\n",
    "      * En este ejercicio, de deben añadir a la clase *ColaPrioridad* más funcionalidades de libre elección. Ejemplo: un método para vaciar la cola.\n",
    "      * Podéis también definir vuestras propias excepciones, heredando de la clase *Exception* proporcionada por Python. Ejemplo: implementar clase *ExcepcionPrioridadFueraDeRango*."
   ]
  },
  {
   "cell_type": "code",
   "execution_count": null,
   "metadata": {},
   "outputs": [],
   "source": [
    "class Cola:\n",
    "    \"\"\" Representa una cola con las operaciones encolar y desencolar.\n",
    "        El primero en ser encolado es también el primero en ser desencolado.\n",
    "    \"\"\"\n",
    "\n",
    "    def __init__(self):\n",
    "        \"\"\" Crea una cola vacía. \"\"\"\n",
    "        # representada por una lista vacía\n",
    "        self.items=[]\n",
    "\n",
    "        def encolar(self, x):\n",
    "    \"\"\" Agrega el elemento x en última posición. \"\"\"\n",
    "        self.items.append(x)\n",
    "\n",
    "        def desencolar(self):\n",
    "    \"\"\" borra el primer elemento de la cola y devuelve su\n",
    "        valor. Si la cola está vacía, levanta ValueError. \"\"\"\n",
    "            try:\n",
    "                return self.items.pop(0)\n",
    "            except:\n",
    "                raise ValueError(\"La cola está vacía\")\n",
    "\n",
    "        def extraer(self, valor):\n",
    "    \"\"\" Extrae un elemento de la lista\"\"\"\n",
    "            if len(self,cola) ==0:\n",
    "                return None\n",
    "            index = 0\n",
    "            for i in range(len(self.cola)):\n",
    "                if self.cola[i] > self.cola[index]:\n",
    "                    index = i\n",
    "            aux = self.cola[index]\n",
    "            del self.cola[index]\n",
    "            return aux\n",
    "\n",
    "            \n"
   ]
  },
  {
   "cell_type": "markdown",
   "id": "square-eclipse",
   "metadata": {},
   "source": [
    "**2.** *(2 puntos)* Implementa un algoritmo de ordenación que utilice la cola de prioridad del ejercicio 1 para ordenar de manera decreciente una lista de números comprendidos entre el 0 y el 100. La lista puede tener duplicados. Como orientación, podéis consultar [Heapsort](https://es.wikipedia.org/wiki/Heapsort), un algoritmo de ordenación basado en colas de prioridad."
   ]
  },
  {
   "cell_type": "code",
   "execution_count": null,
   "metadata": {},
   "outputs": [],
   "source": [
    "\"\"\"algoritmo de ordenación\"\"\"\n",
    "def selectionSort(cola):\n",
    "    for i in range(len(cola)):\n",
    "        least = i\n",
    "        for k in range(i+1, len(cola)):\n",
    "            if aList[k] < aList[least]:\n",
    "                least = k\n",
    "                 \n",
    "        swap(aList, least, i)\n",
    "         \n",
    "def swap(A, x, y):\n",
    "    temp = A[x]\n",
    "    A[x] = A[y]\n",
    "    A[y] = temp\n",
    "\n"
   ]
  },
  {
   "cell_type": "markdown",
   "id": "ahead-andrews",
   "metadata": {},
   "source": [
    "**3.** *(3 puntos)*  Elabora unos tests automáticos para verificar el correcto funcionamiento de la cola de prioridad implementada en el ejercicio 1. Estos tests deben seguir las fases vistas en clase: *setup*, *acción* y *verificación*. La fase de *tear down* no es necesaria. Se recomienda el uso de un framework de testing (como PyTest), tal y como se mostró en la unidad temática 15, pero esto es opcional. Su uso no se valorará positivamente (ni negativamente el no usarlo). Podéis implementar los tests simplemente como funciones que invoquéis vosotros. Se deben implementar un mínimo de 4 tests.\n",
    "\n",
    "   Test de ejemplo:"
   ]
  },
  {
   "cell_type": "code",
   "execution_count": null,
   "id": "vocal-genesis",
   "metadata": {},
   "outputs": [],
   "source": [
    "def test_extraer_funciona_correctamente_tras_insertar_con_prioridad():\n",
    "    # Setup\n",
    "    cola = ColaPrioridad(1, 4)\n",
    "    cola.insertar_con_prioridad('a', 1)\n",
    "    cola.insertar_con_prioridad('b', 2)\n",
    "    cola.insertar_con_prioridad('c', 3)\n",
    "    cola.insertar_con_prioridad('d', 1)\n",
    "    \n",
    "    # Acción\n",
    "    primer_elemento = cola.extraer()\n",
    "    segundo_elemento = cola.extraer()\n",
    "    tercer_elemento = cola.extraer()\n",
    "    cuarto_elemento = cola.extraer()\n",
    "    \n",
    "    # Verificacion\n",
    "    assert primer_elemento == 'c'\n",
    "    assert segundo_elemento == 'b'\n",
    "    assert tercer_elemento == 'a'\n",
    "    assert cuarto_elemento == 'd'\n",
    "    \n",
    "def test_ordenar_funciona_tras_orednacion():\n",
    "    #setup\n",
    "    cola = MycolaP(1,5)\n",
    "    cola.ordenar_con_prioridad('a', 1)\n",
    "    cola.ordenar_con_prioridad('b', 2)\n",
    "    cola.ordenar_con_prioridad('c', 3)\n",
    "    cola.ordenar_con_prioridad('d', 4)\n",
    "    cola.ordenar_con_prioridad('e', 5)\n",
    "\n",
    "    #Acción\n",
    "    First = MycolaP.extraer()\n",
    "    Second = MycolaP.extraer()\n",
    "    Thirth = MycolaP.extraer()\n",
    "    Fourth = MycolaP.extraer()\n",
    "    Fifth = MycolaP.extraer()\n",
    "\n",
    "    #Verificación\n",
    "    assert First == 'a'\n",
    "    assert Second == 'b'\n",
    "    assert Third == 'c'\n",
    "    assert Fourth == 'd'\n",
    "    assert Fifth == 'e'\n",
    "    \n",
    "def test_borrado():\n",
    "    #setup\n",
    "    cola = MycolaP(1,4)\n",
    "    cola.test_borrado('a', 1)\n",
    "    cola.test_borrado('b', 2)\n",
    "    cola.test_borrado('c', 3)\n",
    "    cola.test_borrado('d', 4)\n",
    "\n",
    "    #Acción\n",
    "    First = MycolaP.test_borrado()\n",
    "    Second = MycolaP.test_borrado()\n",
    "    Thirth = MycolaP.test_borrado()\n",
    "    Fourth = MycolaP.test_borrado()\n",
    "    \n",
    "\n",
    "    #Verificación\n",
    "    assert First == 'a'\n",
    "    assert Second == 'b'\n",
    "    assert Third == 'c'\n",
    "    assert Fourth == 'd'\n",
    "    \n",
    "    \n",
    "    "
   ]
  }
 ],
 "metadata": {
  "kernelspec": {
   "display_name": "Python 3",
   "language": "python",
   "name": "python3"
  },
  "language_info": {
   "codemirror_mode": {
    "name": "ipython",
    "version": 3
   },
   "file_extension": ".py",
   "mimetype": "text/x-python",
   "name": "python",
   "nbconvert_exporter": "python",
   "pygments_lexer": "ipython3",
   "version": "3.9.2"
  }
 },
 "nbformat": 4,
 "nbformat_minor": 5
}