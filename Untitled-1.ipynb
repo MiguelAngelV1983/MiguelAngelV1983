{
 "metadata": {
  "language_info": {
   "codemirror_mode": {
    "name": "ipython",
    "version": 3
   },
   "file_extension": ".py",
   "mimetype": "text/x-python",
   "name": "python",
   "nbconvert_exporter": "python",
   "pygments_lexer": "ipython3",
   "version": "3.9.4"
  },
  "orig_nbformat": 2,
  "kernelspec": {
   "name": "python394jvsc74a57bd02e3c1e8da6e821b0193601da5a0e541c0efda9704da45b6b820f5f4c317f2def",
   "display_name": "Python 3.9.4 64-bit"
  },
  "metadata": {
   "interpreter": {
    "hash": "2e3c1e8da6e821b0193601da5a0e541c0efda9704da45b6b820f5f4c317f2def"
   }
  }
 },
 "nbformat": 4,
 "nbformat_minor": 2,
 "cells": [
  {
   "cell_type": "code",
   "execution_count": 14,
   "metadata": {},
   "outputs": [
    {
     "output_type": "stream",
     "name": "stdout",
     "text": [
      "<class 'tuple'>\n2602385646656\n"
     ]
    }
   ],
   "source": [
    "#Asignatura: Introducción a la programación\n",
    "#Actividad Evaluable 1\n",
    "#Autor: Miguel Ángel Valverde González\n",
    "#Fecha: 08/05/2021\n",
    "\n",
    "\n",
    "#1. Operaciones básicas\n",
    "\n",
    "#1.1. Crear una variable que referencie a un objeto de tipo float (número real) y después mostrar el tipo del objeto y su identificador por pantalla.\n",
    "\n",
    "x=8,2 \n",
    "print(type(x)) \n",
    "print(id(x))"
   ]
  },
  {
   "cell_type": "code",
   "execution_count": 15,
   "metadata": {},
   "outputs": [
    {
     "output_type": "stream",
     "name": "stdout",
     "text": [
      "Miguel Ángel tiene 37 años\n"
     ]
    }
   ],
   "source": [
    "#1.2. Crear un diccionario que represente una persona, con su nombre (de tipo string) y edad (de tipo entero). Después, accediendo al diccionario, imprimir por pantalla el texto: \"X tiene Y años\", donde X es el nombre de la persona e Y es la edad.\n",
    "\n",
    "persona = {'Nombre' : 'Miguel Ángel', 'Edad' : 37}\n",
    "print((persona['Nombre']) + \" tiene \" + str(persona['Edad']) +  \" años\")\n",
    "\n",
    "\n",
    "\n"
   ]
  },
  {
   "cell_type": "code",
   "execution_count": 16,
   "metadata": {},
   "outputs": [
    {
     "output_type": "stream",
     "name": "stdout",
     "text": [
      "[0, 2, 4, 6, 8]\n"
     ]
    }
   ],
   "source": [
    "#1.3. Crear una lista ordenada que contenga los números del 0 al 9. Usando esta lista, mostrar por pantalla otra lista que contenga sólo los números pares. No puedes usar expresiones literales, ni sentencias condicionales ni bucles para resolver este problema.\n",
    "\n",
    "lista1 = [0,1,2,3,4,5,6,7,8,9]\n",
    "lista2 = []\n",
    "lista2.append(lista1[1])\n",
    "lista1.pop(1)\n",
    "lista2.append(lista1[2])\n",
    "lista1.pop(2)\n",
    "lista2.append(lista1[3])\n",
    "lista1.pop(3)\n",
    "lista2.append(lista1[4])\n",
    "lista1.pop(4)\n",
    "lista2.append(lista1[5])\n",
    "lista1.pop(5)\n",
    "\n",
    "print(lista1)\n",
    "\n",
    "\n",
    "\n"
   ]
  },
  {
   "cell_type": "code",
   "execution_count": 17,
   "metadata": {},
   "outputs": [
    {
     "output_type": "stream",
     "name": "stdout",
     "text": [
      "{'H', 'T', 'S', 'Z', 'C', 'B', 'P', 'Q', 'Y', 'X', 'J', 'V', 'K', 'N', 'W', 'O', 'A', 'F', 'R', 'Ñ', 'D'}\n"
     ]
    }
   ],
   "source": [
    "#1.4. Definir un conjunto que contenga todos los caracteres del alfabeto. Mostrar por pantalla el subconjunto que resulta de eliminar los caracteres de vuestro nombre en dicho conjunto inicial. No podéis usar sentencias condicionales ni bucles para resolver este problema.\n",
    "\n",
    "alfabeto = set(['A','B','C','D','E','F','G','H','I','J','K','L','M','N','Ñ','O','P','Q','R','S','T','U','V','W','X','Y','Z'])\n",
    "alfabeto.discard('M')\n",
    "alfabeto.discard('I')\n",
    "alfabeto.discard('G')\n",
    "alfabeto.discard('U')\n",
    "alfabeto.discard('E')\n",
    "alfabeto.discard('L')\n",
    "\n",
    "print(alfabeto)\n"
   ]
  },
  {
   "cell_type": "code",
   "execution_count": 18,
   "metadata": {},
   "outputs": [
    {
     "output_type": "stream",
     "name": "stdout",
     "text": [
      "183.54\n"
     ]
    }
   ],
   "source": [
    "#2 Funciones\n",
    "\n",
    "#modificado 13/05/2021\n",
    "\n",
    "#2.1. Crear una función que reciba una lista con objetos de diferentes tipos. Por simplificar, para este problema se consideran únicamente números enteros, números decimales y strings. La función debe devolver la suma de los números (enteros y decimales) e ignorar los strings. Ejemplo: el resultado para la lista 'b', 'c', 1, 3.4, 'a', 2 sería 6.4.\n",
    "\n",
    "lista  = ['a', 78, 9, 84, 5, 'a',7.54,'z']\n",
    "def suma_lista(lista):\n",
    "\n",
    "    x = 0\n",
    "    for n in lista:\n",
    "        if (type(n) != str):\n",
    "            x+=n\n",
    "    return x\n",
    "print(suma_lista(lista))"
   ]
  },
  {
   "source": [],
   "cell_type": "markdown",
   "metadata": {}
  },
  {
   "cell_type": "code",
   "execution_count": 19,
   "metadata": {},
   "outputs": [
    {
     "output_type": "error",
     "ename": "IndentationError",
     "evalue": "unindent does not match any outer indentation level (<tokenize>, line 10)",
     "traceback": [
      "\u001b[1;36m  File \u001b[1;32m\"<tokenize>\"\u001b[1;36m, line \u001b[1;32m10\u001b[0m\n\u001b[1;33m    elif anioB % 4 == 0 and anioB % 100 != 0: #divisible entre 4 y no entre 100 o 400\u001b[0m\n\u001b[1;37m    ^\u001b[0m\n\u001b[1;31mIndentationError\u001b[0m\u001b[1;31m:\u001b[0m unindent does not match any outer indentation level\n"
     ]
    }
   ],
   "source": [
    "#2.2. Crear una función que calcule si un año dado es bisiesto o no. Un año es bisiesto si es divisible entre 4, excepto aquellos divisibles entre 100 pero no entre 400. Añadir documentación a la función a través de docstrings. El programa debe usar la función implementada para mostrar una lista con todos los años bisiestos desde 1900 (inclusive) hasta la actualidad. Debéis usar una list comprehension para generar esta lista.\n",
    "def EsBisiesto():\n",
    "\n",
    "    año = 1980 #el año que queremos comprobar\n",
    "    bisiestos = []\n",
    "\n",
    "    for anioB in range(1900, 2021):\n",
    "        if anioB % 4 != 0: #no divisible entre 4\n",
    "\t        print(\"No es bisiesto\")\n",
    "            elif anioB % 4 == 0 and anioB % 100 != 0: #divisible entre 4 y no entre 100 o 400\n",
    "                print(\"Es bisiesto\")\n",
    "                bisiestos.append(anioB)\n",
    "            elif anioB % 4 == 0 and anioB % 100 == 0 and anioB % 400 != 0: #divisible entre 4 y 10 y no entre 400\n",
    "\t            print(\"No es bisiesto\")\n",
    "            elif año % 4 == 0 and anioB % 100 == 0 and anioB % 400 == 0: #divisible entre 4, 100 y 400\n",
    "\t            print(\"Es bisiesto\")\n",
    "                bisiestos.append(anioB)\n",
    "    print(bisiestos)\n",
    "\n",
    "\n",
    "    \n"
   ]
  },
  {
   "cell_type": "code",
   "execution_count": 13,
   "metadata": {},
   "outputs": [
    {
     "output_type": "stream",
     "name": "stdout",
     "text": [
      "Ciudad|Pais|Poblacion\nSegovia|Espanya|51683\nNairobi|Kenia|4397000\nValencia|Espanya|791413\nBerlin|Alemania|3645000\nMarsella|Francia|861635\nBilbao|Espanya|345821\nLyon|Francia|513275\nTeruel|Espanya|35691\nMilan|Italia|1352000\nOporto|Portugal|214349\nMadrid|Espanya|3223000\nSevilla|Espanya|688711\nAlbacete|Espanya|173050\nOslo|Noruega|634293\nMedellin|Colombia|2569000\nNantes|Francia|303382 \nGotemburgo|Suecia|579281\nBarcelona|Espanya|1620000\nPekin|China|21540000\nMontevideo|Uruguay|1381000\nZamora|Espanya|61827\nCiudades Francesas: 3\n['S', 'e', 'g', 'o', 'v', 'i', 'a', 'E', 's', 'p', 'a', 'n', 'y', 'a', '5', '1', '6', '8', '3', 'V', 'a', 'l', 'e', 'n', 'c', 'i', 'a', 'E', 's', 'p', 'a', 'n', 'y', 'a', '7', '9', '1', '4', '1', '3', 'B', 'i', 'l', 'b', 'a', 'o', 'E', 's', 'p', 'a', 'n', 'y', 'a', '3', '4', '5', '8', '2', '1', 'T', 'e', 'r', 'u', 'e', 'l', 'E', 's', 'p', 'a', 'n', 'y', 'a', '3', '5', '6', '9', '1', 'M', 'a', 'd', 'r', 'i', 'd', 'E', 's', 'p', 'a', 'n', 'y', 'a', '3', '2', '2', '3', '0', '0', '0', 'S', 'e', 'v', 'i', 'l', 'l', 'a', 'E', 's', 'p', 'a', 'n', 'y', 'a', '6', '8', '8', '7', '1', '1', 'A', 'l', 'b', 'a', 'c', 'e', 't', 'e', 'E', 's', 'p', 'a', 'n', 'y', 'a', '1', '7', '3', '0', '5', '0', 'B', 'a', 'r', 'c', 'e', 'l', 'o', 'n', 'a', 'E', 's', 'p', 'a', 'n', 'y', 'a', '1', '6', '2', '0', '0', '0', '0', 'Z', 'a', 'm', 'o', 'r', 'a', 'E', 's', 'p', 'a', 'n', 'y', 'a', '6', '1', '8', '2', '7']\n"
     ]
    }
   ],
   "source": [
    "#3. Acceso a fichero\n",
    "#fecha: 14/05/2021\n",
    "#En \"./res/ciudades.csv\" tenéis un fichero CSV con información acerca de un conjunto de ciudades: nombre de la ciudad, país al que pertenece y número de habitantes.\n",
    "\n",
    "#3.1 Escribir un programa que acceda al fichero y obtenga:\n",
    "\n",
    "#Una lista con los nombres de las ciudades españolas que tienen más de 300.000 habitantes.\n",
    "#El número total de ciudades francesas.\n",
    "#El programa debe mostrar la lista y el número por pantalla.\n",
    "\n",
    "import csv\n",
    "\n",
    "with open(\"res/ciudades.csv\") as fichero:\n",
    "    data_reader = csv.reader(fichero, delimiter=',')\n",
    "    CiudadesFrancesas = 0\n",
    "    CiudadesEspa = []\n",
    "    delimitador = '|'\n",
    "    rango = slice(-1, delimitador)\n",
    "    for linea in data_reader:\n",
    "        print(linea[0])\n",
    "        if (linea[0].count(\"Francia\")!=0):\n",
    "            CiudadesFrancesas+=1\n",
    "        if (linea[0].count(\"Espanya\")!=0 and ((linea[0].rfind(\"|\") and rango < 300000 ):\n",
    "            for i in (linea[0]):\n",
    "                if (i!='|'):\n",
    "                    CiudadesEspa.append(i)\n",
    "                \n",
    "                    \n",
    "                \n",
    "\n",
    "\n",
    "    print(\"Ciudades Francesas: \" + str(CiudadesFrancesas))\n",
    "    print(CiudadesEspa)\n",
    "\n"
   ]
  },
  {
   "cell_type": "code",
   "execution_count": null,
   "metadata": {},
   "outputs": [],
   "source": []
  }
 ]
}