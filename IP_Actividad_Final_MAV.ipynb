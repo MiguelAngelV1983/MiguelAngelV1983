{
 "cells": [
  {
   "cell_type": "markdown",
   "id": "scheduled-outline",
   "metadata": {},
   "source": [
    "<img src=\"img/viu_logo.png\" width=\"200\"><img src=\"img/python_logo.png\" width=\"250\"> *Mario Cervera*"
   ]
  },
  {
   "cell_type": "markdown",
   "id": "assumed-serum",
   "metadata": {},
   "source": [
    "# Introducción a la Programación - Actividad Final"
   ]
  },
  {
   "cell_type": "markdown",
   "id": "accepted-fortune",
   "metadata": {},
   "source": [
    "### Objetivos"
   ]
  },
  {
   "cell_type": "markdown",
   "id": "accepted-correction",
   "metadata": {},
   "source": [
    "El objetivo de esta actividad es aplicar los conocimientos vistos en la asignatura:\n",
    "\n",
    "- Tipos básicos y compuestos.\n",
    "- Estructuras de control.\n",
    "- Uso de excepciones.\n",
    "- Funciones.\n",
    "- Docstrings.\n",
    "- Estructuras de datos.\n",
    "- Algoritmos.\n",
    "- Programación orientada a objetos.\n",
    "- Testing."
   ]
  },
  {
   "cell_type": "markdown",
   "id": "further-satin",
   "metadata": {},
   "source": [
    "### Indicaciones generales"
   ]
  },
  {
   "cell_type": "markdown",
   "id": "ancient-cyprus",
   "metadata": {},
   "source": [
    "* En este documento se describen en detalle las funcionalidades mínimas a desarrollar. El desarrollo correcto de las funcionalidades descritas garantiza el aprobado de la actividad, pero, idealmente, el alumno deberá implementar alguna funcionalidad extra, menos detallada en los enunciados. Respecto a estas funcionalidades extra, los enunciados dan algunas directrices que pueden servir de orientación al estudiante.\n",
    "* Para la evaluación de la actividad se tendrá en cuenta la aplicación de buenas prácticas y la limpieza del código.\n",
    "* Se debe añadir documentación al código (docstrings).\n",
    "* La actividad se debe entregar en este mismo notebook (fichero *.ipynb*), añadiendo las celdas de código necesarias para la resolución de los ejercicios.\n",
    "* El valor de esta actividad es de un 50% sobre la nota final de la asignatura."
   ]
  },
  {
   "cell_type": "markdown",
   "id": "opened-baseline",
   "metadata": {},
   "source": [
    "### Actividades"
   ]
  },
  {
   "cell_type": "markdown",
   "id": "sunset-messenger",
   "metadata": {},
   "source": [
    "**1.** *(5 puntos)* Implementa una clase *ColaPrioridad* que permita el almacenamiento de objetos ordenados por prioridad. Esta cola de prioridad tiene la peculiaridad de que mantiene un rango de prioridades (numéricas de tipo entero) válidas. Es decir, al instanciar objetos de la clase *ColaPrioridad*, se debe especificar una prioridad mínima y una máxima, y ninguna prioridad fuera de este rango será válida. Podéis asumir que el rango de prioridades siempre será pequeño (es decir, que la diferencia entre la prioridad mínima y máxima nunca será muy elevada), y que este rango no puede modificarse una vez el objeto de tipo *ColaPrioridad* ha sido creado. Teniendo esto en cuenta, la clase *ColaPrioridad* permitirá:\n",
    "\n",
    "   * Insertar un objeto con una prioridad dada. Si la prioridad indicada está fuera de rango, se lanzará un error. Ejemplo: inserción del objeto *'a'* con prioridad 3.\n",
    "   * Insertar un objeto, sin especificar prioridad. Esta operación será valida únicamente para objetos numéricos de tipo entero. El valor del número será su propia prioridad. Ejemplo: insertar el objeto 4 (cuya prioridad será 4 de manera implícita). Si la prioridad está fuera de rango, se lanzará un error.\n",
    "   * Extraer el objeto de mayor prioridad en toda la cola de prioridad. En caso de empate (es decir, si más de un objeto tiene la prioridad mayor), el orden de extración será en base al orden de inserción (first in, first out). Es decir, para cada posible prioridad, se debe mantener una cola de objetos.\n",
    "   * Extraer el objeto más prioritario dada una prioridad concreta. Si existe más de un objeto con la misma prioridad, el orden de extración será también en base al orden de inserción (first in, first out).\n",
    "   * Funcionalidades extra.\n",
    "      * En este ejercicio, de deben añadir a la clase *ColaPrioridad* más funcionalidades de libre elección. Ejemplo: un método para vaciar la cola.\n",
    "      * Podéis también definir vuestras propias excepciones, heredando de la clase *Exception* proporcionada por Python. Ejemplo: implementar clase *ExcepcionPrioridadFueraDeRango*."
   ]
  },
  {
   "cell_type": "code",
   "execution_count": null,
   "id": "efd72b8f-9760-40e8-8afe-e2e4922e68ae",
   "metadata": {},
   "outputs": [],
   "source": [
    "# Ejercicio 1\n",
    "# ColaPrioridad con un limite de prioridades prestablecido.\n",
    "import math\n",
    "from io import StringIO\n",
    "\n",
    "class ColaPrioridad:\n",
    "    \"\"\"Clase que implementa una Cola de Prioridad mediante rango de prioridades valido\n",
    "    \n",
    "   Métodos utilizados\n",
    "    - Método add: introduce un objeto en la cola con su prioridad. \n",
    "      Si la prioridad introducida está fuera del rango establecido devuelve una excepción IndexError\n",
    "    - Método insert: introduce un objeto entero sin indicar su prioridad. \n",
    "      Se define en la cola con la prioridad igual al valor del objeto entero.\n",
    "    - Método get: extrae el objeto de mayor prioridad en toda la cola.\n",
    "      En caso de empate devuelve el primero (FIFO)\n",
    "    - Método get_inv: extrae el objeto de mayor prioridad en toda la cola. En caso de empate devuelve el primero(FIFO)\n",
    "    - Método get_con_pri: extrae el elemento con mayor prioridad de la prioridad indicada.\n",
    "      En caso de empate devuelve el primero (FIFO)\n",
    "      Si la prioridad introducida está fuera del rango establecido devuelve una excepción IndexError\n",
    "    - Método show_tree: visualiza la formacion del árbol de la cola de prioridad.\n",
    "      Utiliza StringIO y math para manejar streams de texto en memoria y organizar los datos en el árbol\n",
    "    - Métodos para vaciar la cola y obtener su tamaño \n",
    "    - Método View_Max: muestra una vista más adecuada para el lenguaje utilizado de la cola de prioridad\n",
    "    \n",
    "    La clase indica que la cola está vacía en caso de que así sea o que ya no quedan elementos deuna prioridad dada\n",
    "    \"\"\"\n",
    "\n",
    "    def __init__(self, min_pri, max_pri):\n",
    "        self.cola = []\n",
    "        self.min_pri = min_pri\n",
    "        self.max_pri = max_pri\n",
    "        self.range = range(min_pri, (max_pri+1))\n",
    "\n",
    "\n",
    "    def add(self, new_elem, priority):\n",
    "        if(priority == -1):\n",
    "                self.cola.insert(-1, (priority, new_elem))\n",
    "        elif (priority not in self.range):\n",
    "            raise IndexError(f'Prioridad fuera de rango para el {new_elem} con prioridad {priority}')\n",
    "        \n",
    "        for index, item in enumerate(self.cola):\n",
    "            if priority > item[0]:\n",
    "                self.cola.insert(index, (priority, new_elem))\n",
    "                break;\n",
    "        \n",
    "        else: \n",
    "            self.cola.append((priority, new_elem))\n",
    "            \n",
    "    \n",
    "    def insertar(self, elem_int):\n",
    "        elem_int = int(elem_int)\n",
    "        self.add(elem_int, elem_int)\n",
    "\n",
    "    def get(self):\n",
    "\n",
    "        if self.cola:\n",
    "            return self.cola.pop(0)[1] #devuelve la primera posicion(indice, valor) \n",
    "        else:\n",
    "            print(f'cola vacia')\n",
    "    \n",
    "    def get_inv(self):\n",
    "        if self.cola:\n",
    "            return self.cola.pop(-1)[1]\n",
    "        else:\n",
    "            print(f'cola vacia')\n",
    "\n",
    "    def get_with_pri(self, priority):\n",
    "        if priority not in self.range:\n",
    "            raise IndexError(f'La prioridad {priority} está fuera de rango')\n",
    "        if self.cola:\n",
    "            new_cola = []\n",
    "            for item in self.cola:\n",
    "                if item[0] == int(priority):\n",
    "                    new_cola.append(item[1])\n",
    "                    self.cola.remove((priority, item[1]))\n",
    "            if new_cola != []:\n",
    "                return new_cola.pop(0)\n",
    "            else:\n",
    "                print(f'No quedan elementos con prioridad {prioridad} en la cola')\n",
    "        else:\n",
    "            print(f'cola vacia')\n",
    "        \n",
    "\n",
    "    def clear_cola(self):\n",
    "        self.cola.clear()\n",
    "        print('Cola vacia')\n",
    "\n",
    "    def tamanyo_cola(self):\n",
    "        return len(self.cola)\n",
    "    \n",
    "    def show_tree(self, width_total = 36, relleno=' '):\n",
    "        exit = StringIO() \n",
    "        last_row = -1\n",
    "        tree = (str(item) for _, item in self.cola)\n",
    "        # crear arbol\n",
    "        for i, n in enumerate(tree):\n",
    "            if i:\n",
    "                row = int(math.floor(math.log(i + 1, 2)))\n",
    "            else:\n",
    "                row = 0\n",
    "            if row != last_row:\n",
    "                exit.write('\\n') # escritura en memoria del stream\n",
    "            columnas = 2 ** row # añadir ramas\n",
    "            width_col = int(math.floor(width_total / columnas))\n",
    "            exit.write(str(n).center(width_col, relleno)) # escribimos el stream de texto en memoria\n",
    "            last_row = row\n",
    "        print(exit.getvalue()) # recuperamos de memoria el stream de texto y lo mostramos\n",
    "        print('-' * width_total)\n",
    "        print()\n",
    "\n",
    "    def __str__(self):\n",
    "        return str(self.cola)\n",
    "    \n",
    "    def View_Max(self):\n",
    "        return \" <<<<< \".join(str(item) for _, item in self.cola)\n",
    "\n",
    "\n"
   ]
  },
  {
   "cell_type": "markdown",
   "id": "e1a9e8c1-18cd-4480-b3ee-9a32af8603bb",
   "metadata": {},
   "source": [
    "#### Pruebas de la Cola de Prioridad creada\n",
    "\n",
    "Para estas pruebas se puede mostrar la cola resultado con el formato de lista en bruto simplemente printando el objeto cola:\n",
    "\n",
    "[(1, ['a']), (2, ['b']), (3, ['c'])]\n",
    "\n",
    "O se puede mostrar de forma más intutiva usando el método vista_mejorada:\n",
    "\n",
    "['a'] <<<<< ['b'] <<<<< ['c']\n",
    "\n",
    "Siendo siempre el elemento de la cola más prioritario el primero introducido con valor de prioridad más bajo.\n"
   ]
  },
  {
   "cell_type": "code",
   "execution_count": null,
   "id": "a8110745-09b0-4870-a882-32a16cef9317",
   "metadata": {},
   "outputs": [],
   "source": [
    "#crear objeto y agregar elementos de distinta prioridad\n",
    "cola = ColaPrioridad(0, 3)\n",
    "cola.add(['patata'], 1)\n",
    "cola.add(['azucar'], 2)\n",
    "cola.add(['melon'], 1)\n",
    "cola.add(['sandia'], 2)\n",
    "cola.add(['platano'], 3)\n",
    "print(cola)\n",
    "print(cola.View_Max())"
   ]
  },
  {
   "cell_type": "code",
   "execution_count": null,
   "id": "017b5857-4049-45fc-af6a-11d3c9e84919",
   "metadata": {},
   "outputs": [],
   "source": [
    "# Agregamos otro elemento\n",
    "cola.add(['papaya'], 2)\n",
    "print(cola)"
   ]
  },
  {
   "cell_type": "code",
   "execution_count": null,
   "id": "fed57f8d-d386-460a-bc8d-089126a06ecd",
   "metadata": {},
   "outputs": [],
   "source": [
    "# Agregamos elementos sin prioridad\n",
    "cola.add(['fresa'],-1)\n",
    "cola.add(['mango'],-1)\n",
    "cola.add(['seta'],-1)\n",
    "print(cola)"
   ]
  },
  {
   "cell_type": "code",
   "execution_count": null,
   "id": "0b597271-b665-4668-86f8-e0203a42363a",
   "metadata": {},
   "outputs": [],
   "source": [
    "# Extraer elemento mas prioritario\n",
    "cola.get()"
   ]
  },
  {
   "cell_type": "code",
   "execution_count": null,
   "id": "f177efe3-c126-4303-b597-fd320c352578",
   "metadata": {},
   "outputs": [],
   "source": [
    "# Eextraer elemento menos prioritario\n",
    "cola.get_inv()"
   ]
  },
  {
   "cell_type": "code",
   "execution_count": null,
   "id": "3c71bb14-4fe7-4f6e-a0dc-76f41af7a601",
   "metadata": {},
   "outputs": [],
   "source": [
    "# Elemento con  mayor prioridad teniendo en cuenta una dada \n",
    "cola.get_with_pri(2)"
   ]
  },
  {
   "cell_type": "code",
   "execution_count": null,
   "id": "e9ff0c13-cb2b-4d0a-b8b2-fe77a1e7e55e",
   "metadata": {},
   "outputs": [],
   "source": [
    "# tamaño de la cola\n",
    "cola.tamanyo_cola()"
   ]
  },
  {
   "cell_type": "code",
   "execution_count": null,
   "id": "7229ece4-4812-4be7-96c7-d55e5099bad5",
   "metadata": {},
   "outputs": [],
   "source": [
    "# Vaciamos la cola\n",
    "cola.clear_cola()"
   ]
  },
  {
   "cell_type": "code",
   "execution_count": null,
   "id": "31e6a1ab-3d57-4883-901c-43c1238c8d6e",
   "metadata": {},
   "outputs": [],
   "source": [
    "# Usamos el método mostrar_arbol para mostrar cómo se forma el árbol de la cola de prioridad\n",
    "# Cada vez que entra un nuevo elemento se crea una rama del árbol.\n",
    "# El elemento más prioritario (el de menor valor) siempre se muestra en el lado izquierdo de su fila\n",
    "# El árbol final queda ordenado por prioridad (menor valor) \n",
    "# de arriba a abajo en cada columna y de izquierda a derecha en cada fila\n",
    "import random\n",
    "# Creamos una lista aleatoria de 10 números enteros entre 0 y 20\n",
    "data = [random.randint(0,20) for _ in range(10)]\n",
    "print(f'Lista de la cola de prioridad: \\n\\n {data}\\n')\n",
    "cola = ColaPrioridad(0, 20)\n",
    "for n in data:\n",
    "    cola.add(n, random.randint(1,5))\n",
    "    print(f'Añado elemento {n}:')\n",
    "    cola.show_tree()\n",
    "print(f'Cola de prioridad (vista mejorada): \\n\\n {cola}\\n')\n",
    "print(f'Cola de prioridad (vista mejorada): \\n\\n {cola.View_Max()}\\n')\n",
    "\n"
   ]
  },
  {
   "cell_type": "markdown",
   "id": "square-eclipse",
   "metadata": {},
   "source": [
    "**2.** *(2 puntos)* Implementa un algoritmo de ordenación que utilice la cola de prioridad del ejercicio 1 para ordenar de manera decreciente una lista de números comprendidos entre el 0 y el 100. La lista puede tener duplicados. Como orientación, podéis consultar [Heapsort](https://es.wikipedia.org/wiki/Heapsort), un algoritmo de ordenación basado en colas de prioridad."
   ]
  },
  {
   "cell_type": "code",
   "execution_count": null,
   "id": "5e9c49eb-a9e7-4de6-ab34-c2e2f8e65d3c",
   "metadata": {},
   "outputs": [],
   "source": [
    "# Ejercicio 2\n",
    "# crear lista aleatoria de integer entre 0 y 100\n",
    "import random\n",
    "\n",
    "num=int(input(\"¿Cuántos números desea obtener?\"))\n",
    "list_num = [random.randint(0,100) for _ in range(num)]\n",
    "print(list_num)"
   ]
  },
  {
   "cell_type": "code",
   "execution_count": null,
   "id": "aacfb962-40e0-4cc4-8a22-5ce8e6fbe015",
   "metadata": {},
   "outputs": [],
   "source": [
    "# ordenacion ascendente con cola de prioridad\n",
    "def sort_list_asc(self, list_num):\n",
    "    for i in list_num:\n",
    "        cola.add(i, random.randint(1,5)) #añadimos a la lista de manera ordenada\n",
    "    sort_list =[]\n",
    "    size = cola.tamanyo_cola()\n",
    "    for x in range(size): # extraer en orden inverso para agregar a lista definitiva\n",
    "        sort_list.append(self.get_inv())\n",
    "    print(sort_list)\n",
    "\n",
    "# Usamos la cola de prioridad del ejercicio anterior con un rango de prioridades >= 100\n",
    "cola = ColaPrioridad(0, 100)\n",
    "cola.clear_cola()\n",
    "sort_list_asc(cola, list_num)"
   ]
  },
  {
   "cell_type": "markdown",
   "id": "ahead-andrews",
   "metadata": {},
   "source": [
    "**3.** *(3 puntos)*  Elabora unos tests automáticos para verificar el correcto funcionamiento de la cola de prioridad implementada en el ejercicio 1. Estos tests deben seguir las fases vistas en clase: *setup*, *acción* y *verificación*. La fase de *tear down* no es necesaria. Se recomienda el uso de un framework de testing (como PyTest), tal y como se mostró en la unidad temática 15, pero esto es opcional. Su uso no se valorará positivamente (ni negativamente el no usarlo). Podéis implementar los tests simplemente como funciones que invoquéis vosotros. Se deben implementar un mínimo de 4 tests.\n",
    "\n",
    " "
   ]
  },
  {
   "cell_type": "markdown",
   "id": "b8439ccb-37f7-4d20-b5ce-3ef13c1f2169",
   "metadata": {},
   "source": [
    "###### TESTEANDO MI COLA DE PRIORIDAD\n",
    "He implementado 4 tests usando el framework Pytest"
   ]
  },
  {
   "cell_type": "code",
   "execution_count": null,
   "id": "779c3ac2-0e62-46f3-94ce-fdea200b24d5",
   "metadata": {},
   "outputs": [],
   "source": [
    "# Ejercicio 3\n",
    "# Importación y autoconfiguración de pytest y de ipyest\n",
    "\n",
    "import ipytest\n",
    "import pytest\n",
    "ipytest.autoconfig()"
   ]
  },
  {
   "cell_type": "code",
   "execution_count": null,
   "id": "877b443e-3e56-41af-9eb4-50b9d55eb598",
   "metadata": {},
   "outputs": [],
   "source": [
    "# Ejercicio 3\n",
    "# Test 1. Probamos que tras agregar elementos a la cola de prioridad se extrae el elemento más prioritario (el de menor valor)\n",
    "\n",
    "def obtener_funciona_correctamente_tras_agregar():\n",
    "     # Setup\n",
    "    cola = ColaPrioridad(1, 4)\n",
    "    cola.add('1', 1)\n",
    "    cola.add('2', 2)\n",
    "    cola.add('3', 3)\n",
    "    cola.add('4', 1)\n",
    "    \n",
    "    # Acción\n",
    "    \n",
    "    first_element = cola.get()\n",
    "    second_element = cola.get()\n",
    "    third_element = cola.get()\n",
    "    forth_element = cola.get()\n",
    "    \n",
    "    # Verificacion\n",
    "    assert first_element == '1'\n",
    "    assert second_element == '2'\n",
    "    assert third_element == '3'\n",
    "    assert forth_element == '4'\n",
    "    "
   ]
  },
  {
   "cell_type": "code",
   "execution_count": null,
   "id": "2c3be41b-e8cd-4a0d-9161-8dcb3d64ce08",
   "metadata": {},
   "outputs": [],
   "source": [
    "%%run_pytest[clean] -qq\n",
    "\n",
    "def test_obtener_funciona_correctamente_tras_agregar():\n",
    "    obtener_funciona_correctamente_tras_agregar()\n",
    "    "
   ]
  },
  {
   "cell_type": "code",
   "execution_count": null,
   "id": "18ddfabb-98ed-426e-9e00-3caa4690e7b3",
   "metadata": {},
   "outputs": [],
   "source": [
    "# Ejercicio 3\n",
    "# Test2. Probamos que tras agregar elementos a la cola podemos extraer el elemento más prioritario (el más pequeño) \n",
    "# de una determinada prioridad\n",
    "def obtener_con_prioridad_funciona_correctamente_tras_agregar():\n",
    "     # Setup\n",
    "    cola = ColaPrioridad(1, 4)\n",
    "    cola.add('1', 1)\n",
    "    cola.add('2', 2)\n",
    "    cola.add('3', 3)\n",
    "    cola.add('4', 1)\n",
    "    \n",
    "    # Acción\n",
    "    first_element_pri_1 = cola.get_with_pri(0)\n",
    "    first_element_pri_2 = cola.get_with_pri(1)\n",
    "    first_element_pri_3 = cola.get_with_pri(2)\n",
    "    first_element_pri_4 = cola.get_with_pri(3)\n",
    "    \n",
    "    # Verificacion\n",
    "    assert first_elem_pri_1 == 'a'\n",
    "    assert first_elem_pri_2 == 'd'\n",
    "    assert first_elem_pri_3 == 'b'\n",
    "    assert first_elem_pri_4 == 'c'"
   ]
  },
  {
   "cell_type": "code",
   "execution_count": null,
   "id": "29adcb0f-19a8-4a7a-b28c-6eebcea51e58",
   "metadata": {},
   "outputs": [],
   "source": [
    "#%%run_pytest[clean] -qq\n",
    "\n",
    "def test_obtener_con_prioridad_funciona_correctamente_tras_agregar():\n",
    "    obtener_con_prioridad_funciona_correctamente_tras_agregar()\n",
    "    "
   ]
  },
  {
   "cell_type": "code",
   "execution_count": null,
   "id": "f2b20b3f-83fd-476f-91cc-bd2f38876b85",
   "metadata": {},
   "outputs": [],
   "source": [
    "# Ejercicio 3\n",
    "# Test 3. Probamos la excepción IndexError cuando intentamos agregar un elemento con una prioridad fuera del rango establecido\n",
    "def add_priority_out_of_range():\n",
    "    with pytest.raises(IndexError) as exception_info:\n",
    "        # Setup\n",
    "        cola = ColaPrioridad(1, 4)\n",
    "        # Acción\n",
    "        add_priority_out_of_range = cola.add('[b]', 5)\n",
    "    \n",
    "    # Verificacion\n",
    "    assert 'fuera de rango' in str(exception_info.value) "
   ]
  },
  {
   "cell_type": "code",
   "execution_count": null,
   "id": "02bdc574-34bd-466d-9780-c3c2d834ba38",
   "metadata": {},
   "outputs": [],
   "source": [
    "%%run_pytest[clean] -qq\n",
    "\n",
    "def test_add_priority_out_of_range():\n",
    "   add_priority_out_of_range\n",
    "    "
   ]
  },
  {
   "cell_type": "code",
   "execution_count": null,
   "id": "dd398a34-36c1-408c-8402-e395aa8fb983",
   "metadata": {},
   "outputs": [],
   "source": [
    "# Ejercicio 3\n",
    "# Test 4. Probamos la excepción IndexError cuando intentamos extraer el elemento más prioritario de una prioridad, \n",
    "# estando esta prioridad fuera del rango establecido\n",
    "def get_with_priority_out_of_range():\n",
    "    with pytest.raises(IndexError) as exception_info:\n",
    "        # Setup\n",
    "        cola = ColaPrioridad(1, 4)\n",
    "        cola.add('a', 1)\n",
    "        cola.add('b', 2)\n",
    "        cola.add('c', 3)\n",
    "        cola.add('d', 1)\n",
    "        # Acción\n",
    "        get_pri_out_of_range = cola.get_with_pri(5)\n",
    "    \n",
    "    # Verificacion\n",
    "    assert 'fuera de rango' in str(exception_info.value) "
   ]
  },
  {
   "cell_type": "code",
   "execution_count": null,
   "id": "822bc9e2-e7fa-49c5-80bd-c58107b5fe59",
   "metadata": {},
   "outputs": [],
   "source": [
    "%%run_pytest[clean] -qq\n",
    "\n",
    "def test_get_with_priority_out_of_range():\n",
    "    get_with_priority_out_of_range()"
   ]
  },
  {
   "cell_type": "code",
   "execution_count": null,
   "id": "ffe2d2b7-9c1c-4c63-9cf2-b777624e99b0",
   "metadata": {},
   "outputs": [],
   "source": [
    "# Ejercicio 3\n",
    "# Test5. Probamos que el método que obtiene el tamaño de la cola\n",
    "def obtener_tamanyo_cola_funciona_correctamente():\n",
    "     # Setup\n",
    "    cola = ColaPrioridad(1, 4)\n",
    "    cola.add('a', 1)\n",
    "    cola.add('b', 2)\n",
    "    cola.add('c', 3)\n",
    "    cola.add('d', 1)\n",
    "    \n",
    "    # Acción\n",
    "    tamanyo_cola = cola.tamanyo_cola()\n",
    "    \n",
    "    # Verificacion\n",
    "    assert tamanyo_cola == 4\n",
    "    "
   ]
  },
  {
   "cell_type": "code",
   "execution_count": null,
   "id": "a8a34472-633d-4d1e-8935-5c2413bdd607",
   "metadata": {},
   "outputs": [],
   "source": [
    "%%run_pytest[clean] -qq\n",
    "\n",
    "def test_obtener_tamanyo_cola_funciona_correctamente():\n",
    "    obtener_tamanyo_cola_funciona_correctamente()"
   ]
  },
  {
   "cell_type": "code",
   "execution_count": null,
   "id": "e672536a-9541-467a-9b27-c804df34938d",
   "metadata": {},
   "outputs": [],
   "source": []
  }
 ],
 "metadata": {
  "kernelspec": {
   "display_name": "Python 3",
   "language": "python",
   "name": "python3"
  },
  "language_info": {
   "codemirror_mode": {
    "name": "ipython",
    "version": 3
   },
   "file_extension": ".py",
   "mimetype": "text/x-python",
   "name": "python",
   "nbconvert_exporter": "python",
   "pygments_lexer": "ipython3",
   "version": "3.8.8"
  }
 },
 "nbformat": 4,
 "nbformat_minor": 5
}
